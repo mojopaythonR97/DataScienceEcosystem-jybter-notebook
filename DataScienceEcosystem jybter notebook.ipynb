{
 "cells": [
  {
   "cell_type": "markdown",
   "id": "982b26d3-1450-4e90-9215-c9c33887a00e",
   "metadata": {},
   "source": [
    "# Data Science Tools and Ecosystem"
   ]
  },
  {
   "cell_type": "markdown",
   "id": "793dcc0b-cee7-4b16-8266-f93523b1f5bd",
   "metadata": {},
   "source": [
    "In this notebook, Data Science Tools and Ecosystem are summarized."
   ]
  },
  {
   "cell_type": "markdown",
   "id": "3fa34f7d-40c7-4e8b-ae2a-f47480b51b2a",
   "metadata": {},
   "source": [
    "**Objectives:**\n",
    "* List popular languages for Data Science\n",
    "* Some of the commonly used libraries used by Data Scientists\n",
    "* examples of evaluating arithmetic expressions in Python"
   ]
  },
  {
   "cell_type": "markdown",
   "id": "f55d46ba-f9e6-4fe0-ae83-a0e971791d0d",
   "metadata": {},
   "source": [
    "Some of the popular languages that Data Scientists use are:\n",
    "1. Paython\n",
    "2. R\n",
    "3. julia\n"
   ]
  },
  {
   "cell_type": "markdown",
   "id": "c57ffc59-6300-4579-a387-13f318377b88",
   "metadata": {},
   "source": [
    "Some of the commonly used libraries used by Data Scientists include:\n",
    "* NumPy\n",
    "* Pandas\n",
    "* SciPy\n",
    "* TensorFlow\n",
    "* Keras"
   ]
  },
  {
   "cell_type": "markdown",
   "id": "5584cb7f-fea4-481f-ba7f-4225de55274b",
   "metadata": {},
   "source": [
    "| Data Science Tools |\n",
    "|--------------------|\n",
    "| JupyterLab and Jupyter Notebook |\n",
    "| Spyder |\n",
    "| Visual Studio |"
   ]
  },
  {
   "cell_type": "markdown",
   "id": "ea1684c0-d673-4f40-aa9f-12014d40a1cd",
   "metadata": {},
   "source": [
    "### Below are a few examples of evaluating arithmetic expressions in Python"
   ]
  },
  {
   "cell_type": "code",
   "execution_count": 2,
   "id": "efccc3c1-129f-4164-9e09-33c02fa07659",
   "metadata": {},
   "outputs": [
    {
     "data": {
      "text/plain": [
       "17"
      ]
     },
     "execution_count": 2,
     "metadata": {},
     "output_type": "execute_result"
    }
   ],
   "source": [
    "# This a simple arithmetic expression to mutiply then add integers\n",
    "(3*4)+5"
   ]
  },
  {
   "cell_type": "code",
   "execution_count": 3,
   "id": "bfe4ec27-6018-4df6-9b40-089016d517d9",
   "metadata": {},
   "outputs": [
    {
     "data": {
      "text/plain": [
       "3.3333333333333335"
      ]
     },
     "execution_count": 3,
     "metadata": {},
     "output_type": "execute_result"
    }
   ],
   "source": [
    "# This will convert 200 minutes to hours by diving by 60\n",
    "200/60"
   ]
  },
  {
   "cell_type": "code",
   "execution_count": null,
   "id": "f315a40c-5f16-4185-80f0-a7c5c49119f3",
   "metadata": {},
   "outputs": [],
   "source": []
  },
  {
   "cell_type": "markdown",
   "id": "e42b85d9-cc84-4ee1-b64c-e68ad100d1f6",
   "metadata": {},
   "source": [
    "## Author\n",
    "mohammad al jaidi"
   ]
  },
  {
   "cell_type": "code",
   "execution_count": null,
   "id": "f8a5e299-a448-44a4-b886-d30d20718274",
   "metadata": {},
   "outputs": [],
   "source": []
  }
 ],
 "metadata": {
  "kernelspec": {
   "display_name": "Python 3 (ipykernel)",
   "language": "python",
   "name": "python3"
  },
  "language_info": {
   "codemirror_mode": {
    "name": "ipython",
    "version": 3
   },
   "file_extension": ".py",
   "mimetype": "text/x-python",
   "name": "python",
   "nbconvert_exporter": "python",
   "pygments_lexer": "ipython3",
   "version": "3.9.18"
  }
 },
 "nbformat": 4,
 "nbformat_minor": 5
}
